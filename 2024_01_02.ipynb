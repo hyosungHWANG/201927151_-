{
  "nbformat": 4,
  "nbformat_minor": 0,
  "metadata": {
    "colab": {
      "provenance": [],
      "authorship_tag": "ABX9TyO57Kn4jZM58FxETFOx543x",
      "include_colab_link": true
    },
    "kernelspec": {
      "name": "python3",
      "display_name": "Python 3"
    },
    "language_info": {
      "name": "python"
    }
  },
  "cells": [
    {
      "cell_type": "markdown",
      "metadata": {
        "id": "view-in-github",
        "colab_type": "text"
      },
      "source": [
        "<a href=\"https://colab.research.google.com/github/hyosungHWANG/201927151_hyosung/blob/main/2024_01_02.ipynb\" target=\"_parent\"><img src=\"https://colab.research.google.com/assets/colab-badge.svg\" alt=\"Open In Colab\"/></a>"
      ]
    },
    {
      "cell_type": "code",
      "execution_count": 1,
      "metadata": {
        "colab": {
          "base_uri": "https://localhost:8080/"
        },
        "id": "cAq4zL09B4zx",
        "outputId": "09b9bb60-4e2b-4408-9743-6994c514062e"
      },
      "outputs": [
        {
          "output_type": "stream",
          "name": "stdout",
          "text": [
            "우리가 수업하는 실습실:\n",
            "105\n"
          ]
        }
      ],
      "source": [
        "#program 2-6\n",
        "#하나의 변수를 활용하는 코드입니다.\n",
        "Lab = 105\n",
        "print('우리가 수업하는 실습실:')\n",
        "print(Lab)"
      ]
    },
    {
      "cell_type": "code",
      "source": [
        "#program 2-7\n",
        "#하나의 변수를 활용하는 코드입니다.\n",
        "Lab = 105\n",
        "print('우리가 수업하는 실습실:',Lab)"
      ],
      "metadata": {
        "colab": {
          "base_uri": "https://localhost:8080/"
        },
        "id": "YxHhtiuCCgmp",
        "outputId": "95a3e756-4999-45c1-da68-9ac1773ba2b4"
      },
      "execution_count": 2,
      "outputs": [
        {
          "output_type": "stream",
          "name": "stdout",
          "text": [
            "우리가 수업하는 실습실: 105\n"
          ]
        }
      ]
    },
    {
      "cell_type": "code",
      "source": [
        "#program 2-8\n",
        "#변수 두 개를 생성하고 값을 할당\n",
        "my_id = 201927151\n",
        "grade = 3\n",
        "\n",
        "#두 개의 변수에 할당된 값을 출력\n",
        "print('나의 학번:')\n",
        "print(my_id)\n",
        "print('학년:')\n",
        "print(grade)"
      ],
      "metadata": {
        "colab": {
          "base_uri": "https://localhost:8080/"
        },
        "id": "n8Rh5ay1Cm1a",
        "outputId": "ee467be0-9677-4fd4-e027-13fd879a8075"
      },
      "execution_count": 3,
      "outputs": [
        {
          "output_type": "stream",
          "name": "stdout",
          "text": [
            "나의 학번:\n",
            "201927151\n",
            "학년:\n",
            "3\n"
          ]
        }
      ]
    },
    {
      "cell_type": "code",
      "source": [
        "#program 2-9\n",
        "#변수에 값을 할당하고 출력하는 예제입니다.\n",
        "#dollars 변수에 값을 할당해봅시다.\n",
        "dollars = 2.75\n",
        "print('I have', dollars, 'in my account')\n",
        "\n",
        "#dollars 변수에 새로운 값을 할당해봅시다.\n",
        "dollars = 99.95\n",
        "print('But now I have', dollars, 'in my account')"
      ],
      "metadata": {
        "colab": {
          "base_uri": "https://localhost:8080/"
        },
        "id": "Kzst2o76C2Ly",
        "outputId": "783aa86d-c712-49b6-aa5d-a1e1817de9fd"
      },
      "execution_count": 4,
      "outputs": [
        {
          "output_type": "stream",
          "name": "stdout",
          "text": [
            "I have 2.75 in my account\n",
            "But now I have 99.95 in my account\n"
          ]
        }
      ]
    },
    {
      "cell_type": "code",
      "source": [
        "#program 2-10\n",
        "#두 개의 변수를 생성하고 문자열을 할당합니다.\n",
        "department = '항공우주공학과'\n",
        "name = '황효성'\n",
        "\n",
        "#각 변수에 할당된 문자열 값을 출력해보자\n",
        "print(department, name)"
      ],
      "metadata": {
        "colab": {
          "base_uri": "https://localhost:8080/"
        },
        "id": "ORe89dcDC8kP",
        "outputId": "36fe0cad-9aa8-45f0-b0ff-be4872483480"
      },
      "execution_count": 5,
      "outputs": [
        {
          "output_type": "stream",
          "name": "stdout",
          "text": [
            "항공우주공학과 황효성\n"
          ]
        }
      ]
    },
    {
      "cell_type": "code",
      "source": [
        "#program 2-11\n",
        "#학과명을 입력받습니다.\n",
        "department = input('학과명:')\n",
        "\n",
        "#여러분의 이름을 입력받습니다.\n",
        "name = input('성명: ')\n",
        "\n",
        "#두 변수의 값을 출력합니다.\n",
        "print('안녕하세요', department, name)"
      ],
      "metadata": {
        "colab": {
          "base_uri": "https://localhost:8080/"
        },
        "id": "SCzv0isZDDiM",
        "outputId": "e01786d3-9c58-45c5-a43c-ca63dfc573b8"
      },
      "execution_count": 6,
      "outputs": [
        {
          "output_type": "stream",
          "name": "stdout",
          "text": [
            "학과명:항공우주공학과\n",
            "성명: 황효성\n",
            "안녕하세요 항공우주공학과 황효성\n"
          ]
        }
      ]
    },
    {
      "cell_type": "code",
      "source": [
        "#program 2-12\n",
        "#여러분의 이름, 나이, 통학시간 정보를 입력받습니다.\n",
        "name = input('당신의 이름은 무엇입니까? ')\n",
        "age = int(input('나이는 어떻게 되시나요? '))\n",
        "attending_time = float(input('통학시간은 얼마나 걸립니까? '))\n",
        "\n",
        "#변수에 입력된 데이터를 출력해봅시다.\n",
        "print('입력 정보는 다음과 같습니다.')\n",
        "print('이름:', name)\n",
        "print('나이:', age)\n",
        "print('통학시간:', attending_time)"
      ],
      "metadata": {
        "colab": {
          "base_uri": "https://localhost:8080/"
        },
        "id": "0nSV5mK7DJdd",
        "outputId": "b39d8795-7ab5-4b09-f0a8-0232b8a50ee4"
      },
      "execution_count": 8,
      "outputs": [
        {
          "output_type": "stream",
          "name": "stdout",
          "text": [
            "당신의 이름은 무엇입니까? 황효성\n",
            "나이는 어떻게 되시나요? 25\n",
            "통학시간은 얼마나 걸립니까? 0.5\n",
            "입력 정보는 다음과 같습니다.\n",
            "이름: 황효성\n",
            "나이: 25\n",
            "통학시간: 0.5\n"
          ]
        }
      ]
    },
    {
      "cell_type": "code",
      "source": [
        "#program 2-13\n",
        "#salary 변수에 급여를 할당합니다.\n",
        "salary = 2500.0\n",
        "\n",
        "#bouns 변수에 보너스를 할당합니다.\n",
        "bouns = 1200.0\n",
        "\n",
        "#급여와 보너스를 더하여 총 급여를 구해봅니다.\n",
        "#총 급여를 pay 변수에 할당합니다.\n",
        "pay = salary + bouns\n",
        "\n",
        "#총 급여를 출력합니다.\n",
        "print('총 급여: ', pay)"
      ],
      "metadata": {
        "colab": {
          "base_uri": "https://localhost:8080/"
        },
        "id": "Jv2IlA78DTgY",
        "outputId": "82a84e4f-f100-46c3-a84d-dab8babf5428"
      },
      "execution_count": 9,
      "outputs": [
        {
          "output_type": "stream",
          "name": "stdout",
          "text": [
            "총 급여:  3700.0\n"
          ]
        }
      ]
    },
    {
      "cell_type": "code",
      "source": [
        "#program 2-14\n",
        "#본 예제에서는 원가에 할인율을 적용하여 할인가격을 계산해보자.\n",
        "\n",
        "#original price 변수에 원가를 입력받는다.\n",
        "original_price = float(input(\"제품의 원가를 입력해주세요: \"))\n",
        "\n",
        "#원가에 할인율 20%를 적용하여 할인가를 계산하여 discount 변수에 할당한다.\n",
        "discount = original_price*0.2\n",
        "\n",
        "#원가에 할인가가 적용된 제품 가격을 계산하여 sale_price 변수에 할당한다.\n",
        "sale_price = original_price - discount\n",
        "\n",
        "#할인가가 적용된 제품 가격을 출력한다.\n",
        "print('할인가격: ', sale_price)"
      ],
      "metadata": {
        "colab": {
          "base_uri": "https://localhost:8080/"
        },
        "id": "ogCepsyKDZpp",
        "outputId": "606e06c4-c8fe-4196-893f-1c5e7e886f0a"
      },
      "execution_count": 10,
      "outputs": [
        {
          "output_type": "stream",
          "name": "stdout",
          "text": [
            "제품의 원가를 입력해주세요: 100.00\n",
            "할인가격:  80.0\n"
          ]
        }
      ]
    },
    {
      "cell_type": "code",
      "source": [
        "#program 2-15\n",
        "#세 과목의 평가 점수를 입력받고\n",
        "#test1, test2, test3 변수에 각각 할당한다.\n",
        "test1 = float(input('첫 번째 과목 점수를 입력해주세요: '))\n",
        "test2 = float(input('두 번째 과목 점수를 입력해주세요: '))\n",
        "test3 = float(input('세 번째 과목 점수를 입력해주세요: '))\n",
        "\n",
        "#각 과목의 점수 평균을 계산하고\n",
        "#그 결과 값을 average 변수에 할당한다.\n",
        "average = (test1 + test2 + test3) / 3.0\n",
        "\n",
        "#점수 평균을 출력한다.\n",
        "print('3 과목의 평균 점수: ', average)"
      ],
      "metadata": {
        "colab": {
          "base_uri": "https://localhost:8080/"
        },
        "id": "Ejl79Lu9DlTW",
        "outputId": "2406ebfe-aaa7-4bc5-8b7a-3a29ce2b1fb8"
      },
      "execution_count": 11,
      "outputs": [
        {
          "output_type": "stream",
          "name": "stdout",
          "text": [
            "첫 번째 과목 점수를 입력해주세요: 90\n",
            "두 번째 과목 점수를 입력해주세요: 80\n",
            "세 번째 과목 점수를 입력해주세요: 100\n",
            "3 과목의 평균 점수:  90.0\n"
          ]
        }
      ]
    },
    {
      "cell_type": "code",
      "source": [
        "#program 2-16\n",
        "#본 예제는 초를 입력받아 시, 분, 초로 변환하는 프로그램이다.\n",
        "#초 값을 입력받아 total_seconds 변수에 할당한다.\n",
        "total_seconds = float(input('시간 값을 초 단위로 입력해주세요: '))\n",
        "\n",
        "#시간을 계산하여 hours 변수에 할당한다.\n",
        "hours = total_seconds // 3600\n",
        "\n",
        "#분을 계산하여 minutes 변수에 할당한다.\n",
        "minutes = (total_seconds // 60) % 60\n",
        "\n",
        "#초의 나머지 값을 seconds 변수에 할당한다.\n",
        "seconds = total_seconds % 60\n",
        "\n",
        "#시, 분, 초 값을 출력한다.\n",
        "print('시 분 초는 다음과 같습니다.')\n",
        "print('시: ', hours)\n",
        "print('분: ', minutes)\n",
        "print('초: ', seconds)"
      ],
      "metadata": {
        "colab": {
          "base_uri": "https://localhost:8080/"
        },
        "id": "oTJmd38eDvDo",
        "outputId": "ae86ff67-582c-4acf-f149-0ecef0086cbc"
      },
      "execution_count": 12,
      "outputs": [
        {
          "output_type": "stream",
          "name": "stdout",
          "text": [
            "시간 값을 초 단위로 입력해주세요: 11730\n",
            "시 분 초는 다음과 같습니다.\n",
            "시:  3.0\n",
            "분:  15.0\n",
            "초:  30.0\n"
          ]
        }
      ]
    },
    {
      "cell_type": "code",
      "source": [
        "#program 2-17\n",
        "\n",
        "# 본 예제는 목표액을 특정 이율로 얻고자 할 경우 매년 적립해야할 금액을 계산해보자.\n",
        "# 목표액을 입력받고 future_value 변수에 할당한다.\n",
        "future_value = float(input('목표 금액을 입력해주세요: '))\n",
        "\n",
        "# 연간 이율을 입력받고 rate 변수에 할당한다.\n",
        "rate = float(input('연간 이율을 입력해주세요: '))\n",
        "\n",
        "# 적립 기간을 입력받고 years 변수에 할당한다.\n",
        "years = int(input('저축 기간을 연 단위로 입력해주세요: '))\n",
        "\n",
        "# 특정 기간동안 적립해야할 금액을 계산하여 present_value 변수에 할당한다.\n",
        "present_value = future_value / (1.0 + rate)**years\n",
        "\n",
        "# 적립 금액을 출력한다.\n",
        "print('적립 금액: ', present_value)"
      ],
      "metadata": {
        "colab": {
          "base_uri": "https://localhost:8080/"
        },
        "id": "Z-EOyojZD6qH",
        "outputId": "f945aad6-3732-4089-8a34-e1ce873e4d43"
      },
      "execution_count": 13,
      "outputs": [
        {
          "output_type": "stream",
          "name": "stdout",
          "text": [
            "목표 금액을 입력해주세요: 10000.0\n",
            "연간 이율을 입력해주세요: 0.05\n",
            "저축 기간을 연 단위로 입력해주세요: 10\n",
            "적립 금액:  6139.132535407592\n"
          ]
        }
      ]
    },
    {
      "cell_type": "code",
      "source": [
        "#program 2-18\n",
        "\n",
        "# print() 함수에서 쉼표로 데이터를 구분하여 출력할 때\n",
        "# 자동적으로 분리되는 빈 칸을 sep 옵션으로 제어할 수 있다.\n",
        "print('a','b','c')\n",
        "print('a','b','c',sep='')\n",
        "print('a','b','c',sep='***')"
      ],
      "metadata": {
        "colab": {
          "base_uri": "https://localhost:8080/"
        },
        "id": "g0iBRzu0EIpt",
        "outputId": "7d50dcf4-fb93-4784-c4ff-f9a509384689"
      },
      "execution_count": 14,
      "outputs": [
        {
          "output_type": "stream",
          "name": "stdout",
          "text": [
            "a b c\n",
            "abc\n",
            "a***b***c\n"
          ]
        }
      ]
    },
    {
      "cell_type": "code",
      "source": [
        "#program 2-19\n",
        "\n",
        "# print() 함수를 여러 번 사용할 경우, 각 print() 함수가 수행된 후에는\n",
        "# 자동적으로 줄바꿈이 일어난다. 이는 커서가 자동으로 내려가기 때문인데\n",
        "# 커서를 줄바꿈시키지 않고 바로 옆에 놓고 같은 줄에 여러 print() 함수의 내용을\n",
        "# 나타내고자 할 때 end 옵션을 사용할 수 있다.\n",
        "\n",
        "print('a')\n",
        "print('b')\n",
        "print('c', end='')\n",
        "print('d', end='')\n",
        "print('e', end='***')\n",
        "print('f')\n"
      ],
      "metadata": {
        "colab": {
          "base_uri": "https://localhost:8080/"
        },
        "id": "lthutI0xEON3",
        "outputId": "eb3151a7-7d89-47ba-ee67-d20a980c4691"
      },
      "execution_count": 15,
      "outputs": [
        {
          "output_type": "stream",
          "name": "stdout",
          "text": [
            "a\n",
            "b\n",
            "cde***f\n"
          ]
        }
      ]
    }
  ]
}