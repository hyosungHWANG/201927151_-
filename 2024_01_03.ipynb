{
  "nbformat": 4,
  "nbformat_minor": 0,
  "metadata": {
    "colab": {
      "provenance": [],
      "authorship_tag": "ABX9TyMziRNAC/fiUJgS4edunIL5",
      "include_colab_link": true
    },
    "kernelspec": {
      "name": "python3",
      "display_name": "Python 3"
    },
    "language_info": {
      "name": "python"
    }
  },
  "cells": [
    {
      "cell_type": "markdown",
      "metadata": {
        "id": "view-in-github",
        "colab_type": "text"
      },
      "source": [
        "<a href=\"https://colab.research.google.com/github/hyosungHWANG/201927151_hyosung/blob/main/2024_01_03.ipynb\" target=\"_parent\"><img src=\"https://colab.research.google.com/assets/colab-badge.svg\" alt=\"Open In Colab\"/></a>"
      ]
    },
    {
      "cell_type": "code",
      "source": [
        "BASE_SIZE = 8\n",
        "\n",
        "for r in range(BASE_SIZE):\n",
        "  for c in range(r+1):\n",
        "    print('*', end='')\n",
        "  print()"
      ],
      "metadata": {
        "colab": {
          "base_uri": "https://localhost:8080/"
        },
        "id": "a8TiUXTdWbGW",
        "outputId": "28371666-c1f6-46dc-e529-c606b6a40a40"
      },
      "execution_count": 108,
      "outputs": [
        {
          "output_type": "stream",
          "name": "stdout",
          "text": [
            "*\n",
            "**\n",
            "***\n",
            "****\n",
            "*****\n",
            "******\n",
            "*******\n",
            "********\n"
          ]
        }
      ]
    },
    {
      "cell_type": "code",
      "source": [
        "BASE_SIZE = 8\n",
        "\n",
        "for r in range(BASE_SIZE):\n",
        "    for c in range(BASE_SIZE - r):\n",
        "        print('*', end='')\n",
        "    print()"
      ],
      "metadata": {
        "colab": {
          "base_uri": "https://localhost:8080/"
        },
        "id": "CJLr9zjqXxZ_",
        "outputId": "5ef9df0f-ea56-4b25-be48-9b2a3a293fb9"
      },
      "execution_count": 111,
      "outputs": [
        {
          "output_type": "stream",
          "name": "stdout",
          "text": [
            "********\n",
            "*******\n",
            "******\n",
            "*****\n",
            "****\n",
            "***\n",
            "**\n",
            "*\n"
          ]
        }
      ]
    },
    {
      "cell_type": "code",
      "execution_count": 19,
      "metadata": {
        "colab": {
          "base_uri": "https://localhost:8080/"
        },
        "id": "9ApSlUnzdyYx",
        "outputId": "f1974c0b-9dfc-4587-a445-b1bf65257fe5"
      },
      "outputs": [
        {
          "output_type": "stream",
          "name": "stdout",
          "text": [
            "a는 5보다 크지 않다.\n"
          ]
        }
      ],
      "source": [
        "a = 4\n",
        "\n",
        "if a>5:\n",
        "    print(\"a는 5보다 크다.\")\n",
        "print(\"a는 5보다 크지 않다.\")"
      ]
    },
    {
      "cell_type": "code",
      "source": [
        "a = 'f'\n",
        "\n",
        "if a == 'm':\n",
        "    print(\"a는 남자입니다.\")\n",
        "else:\n",
        "    print(\"a는 여자입니다.\")"
      ],
      "metadata": {
        "colab": {
          "base_uri": "https://localhost:8080/"
        },
        "id": "6M8e48yN8bXR",
        "outputId": "307f3424-6ba3-4be8-ac41-2e73457a8810"
      },
      "execution_count": 21,
      "outputs": [
        {
          "output_type": "stream",
          "name": "stdout",
          "text": [
            "a는 여자입니다.\n"
          ]
        }
      ]
    },
    {
      "cell_type": "code",
      "source": [
        "score = int(input(\"점수를 입력하세요:\"))\n",
        "\n",
        "if score >= 90:\n",
        "  print(\"이 학생의 점수는 A입니다.\")\n",
        "elif 90 > score >= 80:\n",
        "  print(\"이 학생의 점수는 B입니다.\")\n",
        "elif 80 > score >= 70:\n",
        "  print(\"이 학생의 점수는 C입니다.\")\n",
        "elif 70 > score >= 60:\n",
        "  print(\"이 학생의 점수는 D입니다.\")\n",
        "else:\n",
        "  print(\"이 학생의 점수는 F입니다.\")\n"
      ],
      "metadata": {
        "colab": {
          "base_uri": "https://localhost:8080/"
        },
        "id": "7pp9CeP79yOy",
        "outputId": "b89aec71-e3b6-4702-eb03-a9f4a5df3143"
      },
      "execution_count": 27,
      "outputs": [
        {
          "output_type": "stream",
          "name": "stdout",
          "text": [
            "점수를 입력하세요:55\n",
            "이 학생의 점수는 F입니다.\n"
          ]
        }
      ]
    },
    {
      "cell_type": "code",
      "source": [
        "a = 10\n",
        "b = 5\n",
        "\n",
        "if a > 5:\n",
        "  if b < 10:\n",
        "    print(\"a는 5보다 크고 b는 10보다 작다.\")"
      ],
      "metadata": {
        "colab": {
          "base_uri": "https://localhost:8080/"
        },
        "id": "7Uh5dnHtBT19",
        "outputId": "8353d908-ed62-4979-833e-f7caef37ea51"
      },
      "execution_count": 28,
      "outputs": [
        {
          "output_type": "stream",
          "name": "stdout",
          "text": [
            "a는 5보다 크고 b는 10보다 작다.\n"
          ]
        }
      ]
    },
    {
      "cell_type": "code",
      "source": [
        "a = 10\n",
        "b = 5\n",
        "\n",
        "if a > 5 and b < 10:\n",
        "    print(\"a는 5보다 크고 b는 10보다 작다.\")"
      ],
      "metadata": {
        "colab": {
          "base_uri": "https://localhost:8080/"
        },
        "id": "st1MqD3JB5W7",
        "outputId": "0e90853f-6e8b-4115-ac8d-11eff4323a1c"
      },
      "execution_count": 29,
      "outputs": [
        {
          "output_type": "stream",
          "name": "stdout",
          "text": [
            "a는 5보다 크고 b는 10보다 작다.\n"
          ]
        }
      ]
    },
    {
      "cell_type": "code",
      "source": [
        "a = [1,2,3,4,5]\n",
        "\n",
        "for i in a:\n",
        "  print(i,end=\" \")\n",
        "  # 옆으로 나열!"
      ],
      "metadata": {
        "colab": {
          "base_uri": "https://localhost:8080/"
        },
        "id": "GbxF7xplDcXH",
        "outputId": "f74e61f2-5d77-44e9-9edf-16b041fde5a8"
      },
      "execution_count": 34,
      "outputs": [
        {
          "output_type": "stream",
          "name": "stdout",
          "text": [
            "1 2 3 4 5 "
          ]
        }
      ]
    },
    {
      "cell_type": "code",
      "source": [
        "for i in range(1,10,2):\n",
        "  print(i,end=\"/\")\n",
        "\n",
        "for i in range(10):\n",
        "  print(i,end=\"_\")"
      ],
      "metadata": {
        "colab": {
          "base_uri": "https://localhost:8080/"
        },
        "id": "s2RLJvPiEQ_a",
        "outputId": "45cd3f4e-e98b-42bb-f63c-249e73636fce"
      },
      "execution_count": 41,
      "outputs": [
        {
          "output_type": "stream",
          "name": "stdout",
          "text": [
            "1/3/5/7/9/0_1_2_3_4_5_6_7_8_9_"
          ]
        }
      ]
    },
    {
      "cell_type": "code",
      "source": [
        "n = int(input())\n",
        "sum = 0\n",
        "\n",
        "for i in range(1,n+1):\n",
        "  sum = sum + i\n",
        "  if i == n:\n",
        "    print(sum)"
      ],
      "metadata": {
        "colab": {
          "base_uri": "https://localhost:8080/"
        },
        "id": "KAoeE1CUF4lq",
        "outputId": "ba2ee64e-688f-4414-c1f6-4a8d32486ee9"
      },
      "execution_count": 57,
      "outputs": [
        {
          "output_type": "stream",
          "name": "stdout",
          "text": [
            "3\n",
            "6\n"
          ]
        }
      ]
    },
    {
      "cell_type": "code",
      "source": [
        "a, b, c = input().split()    # 입력받은 값을 공백을 기준으로 분리\n",
        "a = int(a)    # 변수를 정수로 변환한 뒤 다시 저장\n",
        "b = int(b)\n",
        "c = int(c)\n",
        "\n",
        "if a > b > c:\n",
        "    print(b)\n",
        "elif c > b > a:\n",
        "    print(b)\n",
        "elif b > a > c:\n",
        "    print(a)\n",
        "elif c > a > b:\n",
        "    print(a)\n",
        "else:\n",
        "    print(c)"
      ],
      "metadata": {
        "colab": {
          "base_uri": "https://localhost:8080/"
        },
        "id": "TuCPeZWeJTQv",
        "outputId": "9daea004-ab93-49ca-ab6a-1a1cf9316d36"
      },
      "execution_count": 98,
      "outputs": [
        {
          "output_type": "stream",
          "name": "stdout",
          "text": [
            "20 30 10\n",
            "20\n"
          ]
        }
      ]
    },
    {
      "cell_type": "code",
      "source": [
        "# 세 정수 입력 받기\n",
        "a, b, c = map(int, input().split())\n",
        "\n",
        "# 두 번째로 큰 정수 찾기\n",
        "second_largest = None\n",
        "\n",
        "if (a >= b and a <= c) or (a >= c and a <= b):\n",
        "    second_largest = a\n",
        "elif (b >= a and b <= c) or (b >= c and b <= a):\n",
        "    second_largest = b\n",
        "else:\n",
        "    second_largest = c\n",
        "\n",
        "# 결과 출력\n",
        "print(second_largest)"
      ],
      "metadata": {
        "colab": {
          "base_uri": "https://localhost:8080/"
        },
        "id": "PsW5bJFCUQdm",
        "outputId": "3e94c662-047d-4802-cc1e-5566c0bbc906"
      },
      "execution_count": 100,
      "outputs": [
        {
          "output_type": "stream",
          "name": "stdout",
          "text": [
            "20 30 10\n",
            "20\n"
          ]
        }
      ]
    },
    {
      "cell_type": "code",
      "source": [
        "def add(x,y):\n",
        "  s = x + y\n",
        "  a = s / 2\n",
        "  return s, a\n",
        "\n",
        "h,a = add(10,20)\n",
        "print(\"합:\",h, \"평균:\", a)\n",
        "print(\"합: %d 평균: %.2f\"%(h,a))"
      ],
      "metadata": {
        "colab": {
          "base_uri": "https://localhost:8080/"
        },
        "id": "tZaw_jz8OqF7",
        "outputId": "904c1c60-7354-49d6-9de3-375843d523fa"
      },
      "execution_count": 90,
      "outputs": [
        {
          "output_type": "stream",
          "name": "stdout",
          "text": [
            "합: 30 평균: 15.0\n",
            "합: 30 평균: 15.00\n"
          ]
        }
      ]
    }
  ]
}