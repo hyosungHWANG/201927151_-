{
  "nbformat": 4,
  "nbformat_minor": 0,
  "metadata": {
    "colab": {
      "provenance": [],
      "authorship_tag": "ABX9TyMfDVUni/Oo+jYW+qpupu5x",
      "include_colab_link": true
    },
    "kernelspec": {
      "name": "python3",
      "display_name": "Python 3"
    },
    "language_info": {
      "name": "python"
    }
  },
  "cells": [
    {
      "cell_type": "markdown",
      "metadata": {
        "id": "view-in-github",
        "colab_type": "text"
      },
      "source": [
        "<a href=\"https://colab.research.google.com/github/hyosungHWANG/201927151_hyosung/blob/main/2024_01_09.ipynb\" target=\"_parent\"><img src=\"https://colab.research.google.com/assets/colab-badge.svg\" alt=\"Open In Colab\"/></a>"
      ]
    },
    {
      "cell_type": "code",
      "source": [
        "a = np.arange(1,37).reshape(3,3,4) #층,행,열\n",
        "\n",
        "print(a)\n",
        "print(a.shape)\n",
        "print(a.reshape(3,4,3))\n",
        "print(a.flatten())"
      ],
      "metadata": {
        "colab": {
          "base_uri": "https://localhost:8080/"
        },
        "id": "haI4YET1PG5K",
        "outputId": "fb102c4e-0cdb-4e22-998d-c3085fb6271f"
      },
      "execution_count": 68,
      "outputs": [
        {
          "output_type": "stream",
          "name": "stdout",
          "text": [
            "[[[ 1  2  3  4]\n",
            "  [ 5  6  7  8]\n",
            "  [ 9 10 11 12]]\n",
            "\n",
            " [[13 14 15 16]\n",
            "  [17 18 19 20]\n",
            "  [21 22 23 24]]\n",
            "\n",
            " [[25 26 27 28]\n",
            "  [29 30 31 32]\n",
            "  [33 34 35 36]]]\n",
            "(3, 3, 4)\n",
            "[[[ 1  2  3]\n",
            "  [ 4  5  6]\n",
            "  [ 7  8  9]\n",
            "  [10 11 12]]\n",
            "\n",
            " [[13 14 15]\n",
            "  [16 17 18]\n",
            "  [19 20 21]\n",
            "  [22 23 24]]\n",
            "\n",
            " [[25 26 27]\n",
            "  [28 29 30]\n",
            "  [31 32 33]\n",
            "  [34 35 36]]]\n",
            "[ 1  2  3  4  5  6  7  8  9 10 11 12 13 14 15 16 17 18 19 20 21 22 23 24\n",
            " 25 26 27 28 29 30 31 32 33 34 35 36]\n"
          ]
        }
      ]
    },
    {
      "cell_type": "code",
      "source": [
        "import numpy as np\n",
        "\n",
        "a = np.arange(1,26).reshape(5,5)\n",
        "\n",
        "print(a)\n",
        "print(a.shape)\n",
        "print(a[3][3])\n",
        "print(a[:2,:2])\n",
        "print(a[3:5,3:5])\n",
        "print(a[0:2, :])\n",
        "print(a[:, -2:])"
      ],
      "metadata": {
        "colab": {
          "base_uri": "https://localhost:8080/"
        },
        "id": "GtlC-6HuMX-j",
        "outputId": "838830e3-a245-4a93-ca69-15e2bafe1d46"
      },
      "execution_count": 58,
      "outputs": [
        {
          "output_type": "stream",
          "name": "stdout",
          "text": [
            "[[ 1  2  3  4  5]\n",
            " [ 6  7  8  9 10]\n",
            " [11 12 13 14 15]\n",
            " [16 17 18 19 20]\n",
            " [21 22 23 24 25]]\n",
            "(5, 5)\n",
            "19\n",
            "[[1 2]\n",
            " [6 7]]\n",
            "[[19 20]\n",
            " [24 25]]\n",
            "[[ 1  2  3  4  5]\n",
            " [ 6  7  8  9 10]]\n",
            "[[ 4  5]\n",
            " [ 9 10]\n",
            " [14 15]\n",
            " [19 20]\n",
            " [24 25]]\n"
          ]
        }
      ]
    },
    {
      "cell_type": "code",
      "source": [
        "import numpy as np\n",
        "\n",
        "i = 1\n",
        "\n",
        "while True:\n",
        "  a = np.arange(i,i+5,1)\n",
        "  print(a)\n",
        "  i = i+5\n",
        "  if i == 21:\n",
        "    break"
      ],
      "metadata": {
        "colab": {
          "base_uri": "https://localhost:8080/"
        },
        "id": "cLiXsPGxLp77",
        "outputId": "a4c2bb13-8192-4356-a7b0-381ec9b8586b"
      },
      "execution_count": 42,
      "outputs": [
        {
          "output_type": "stream",
          "name": "stdout",
          "text": [
            "[1 2 3 4 5]\n",
            "[ 6  7  8  9 10]\n",
            "[11 12 13 14 15]\n",
            "[16 17 18 19 20]\n"
          ]
        }
      ]
    },
    {
      "cell_type": "code",
      "source": [
        "import numpy as np\n",
        "arr1 = np.array([[1,2,3],\n",
        "[4,5,6],\n",
        "[7,8,9]])\n",
        "\n",
        "print(arr1[0])\n",
        "print(arr1[0,2])\n",
        "print(arr1[1:])\n",
        "print(arr1[arr1 > 5])"
      ],
      "metadata": {
        "colab": {
          "base_uri": "https://localhost:8080/"
        },
        "id": "bXQm9P-NLfT3",
        "outputId": "934b58d0-2ec6-4188-daa1-995fd995bc93"
      },
      "execution_count": 36,
      "outputs": [
        {
          "output_type": "stream",
          "name": "stdout",
          "text": [
            "[1 2 3]\n",
            "3\n",
            "[[4 5 6]\n",
            " [7 8 9]]\n",
            "[6 7 8 9]\n"
          ]
        }
      ]
    },
    {
      "cell_type": "code",
      "source": [
        "import numpy as np\n",
        "\n",
        "arr1 = np.ones([3,4])\n",
        "\n",
        "print(arr1)\n",
        "print('size :', arr1.size)\n",
        "print('dtype :', arr1.dtype)\n",
        "print('shape :', arr1.shape)\n",
        "print('ndim :',arr1.ndim)\n"
      ],
      "metadata": {
        "colab": {
          "base_uri": "https://localhost:8080/"
        },
        "id": "LgA5ZYLXLZ5V",
        "outputId": "410ec663-b045-40dc-cb0a-0bc20f834617"
      },
      "execution_count": 35,
      "outputs": [
        {
          "output_type": "stream",
          "name": "stdout",
          "text": [
            "[[1. 1. 1. 1.]\n",
            " [1. 1. 1. 1.]\n",
            " [1. 1. 1. 1.]]\n",
            "size : 12\n",
            "dtype : float64\n",
            "shape : (3, 4)\n",
            "ndim : 2\n"
          ]
        }
      ]
    },
    {
      "cell_type": "code",
      "source": [
        "import numpy as np\n",
        "\n",
        "a = np.arange(1,10,2)\n",
        "print(a)\n",
        "\n",
        "b = np.ones((3,4))\n",
        "print(b)\n",
        "\n",
        "c = np.linspace(0,1,10)\n",
        "print(c)"
      ],
      "metadata": {
        "colab": {
          "base_uri": "https://localhost:8080/"
        },
        "id": "qY5lHEKXJsHU",
        "outputId": "a6ee15ea-b359-417c-e41c-2ab33bbda5e8"
      },
      "execution_count": 34,
      "outputs": [
        {
          "output_type": "stream",
          "name": "stdout",
          "text": [
            "[1 3 5 7 9]\n",
            "[[1. 1. 1. 1.]\n",
            " [1. 1. 1. 1.]\n",
            " [1. 1. 1. 1.]]\n",
            "[0.         0.11111111 0.22222222 0.33333333 0.44444444 0.55555556\n",
            " 0.66666667 0.77777778 0.88888889 1.        ]\n"
          ]
        }
      ]
    },
    {
      "cell_type": "code",
      "source": [
        "import numpy as np\n",
        "\n",
        "arr = np.linspace(0, 1, 5) #여기서 5는 생성할 숫자의 수 의미\n",
        "print(arr)\n"
      ],
      "metadata": {
        "colab": {
          "base_uri": "https://localhost:8080/"
        },
        "id": "nNuy48GJI49E",
        "outputId": "15b0828d-de02-4396-a08c-32ca57698145"
      },
      "execution_count": 23,
      "outputs": [
        {
          "output_type": "stream",
          "name": "stdout",
          "text": [
            "[0.   0.25 0.5  0.75 1.  ]\n"
          ]
        }
      ]
    },
    {
      "cell_type": "code",
      "source": [
        "import numpy as np\n",
        "\n",
        "arr_1d = np.random.rand(5)\n",
        "print(arr_1d)\n",
        "\n",
        "arr_2d = np.random.rand(2, 3)\n",
        "print(arr_2d)\n"
      ],
      "metadata": {
        "colab": {
          "base_uri": "https://localhost:8080/"
        },
        "id": "MUJNrnOqIfN9",
        "outputId": "7ac1d9b5-082f-427e-b0cd-649904aff1e2"
      },
      "execution_count": 22,
      "outputs": [
        {
          "output_type": "stream",
          "name": "stdout",
          "text": [
            "[0.13676508 0.31161613 0.38248849 0.96360034 0.50924657]\n",
            "[[0.97035878 0.44341086 0.38938896]\n",
            " [0.02694821 0.73234688 0.66655317]]\n"
          ]
        }
      ]
    },
    {
      "cell_type": "code",
      "source": [
        "import numpy as np\n",
        "\n",
        "ones_1d = np.ones(5)\n",
        "print(ones_1d)\n",
        "\n",
        "ones_2d = np.ones((3, 4))\n",
        "print(ones_2d)"
      ],
      "metadata": {
        "colab": {
          "base_uri": "https://localhost:8080/"
        },
        "id": "30zGRYvnIZ2G",
        "outputId": "837ea864-0ec3-4642-f4aa-7532dc6ae729"
      },
      "execution_count": 17,
      "outputs": [
        {
          "output_type": "stream",
          "name": "stdout",
          "text": [
            "[1. 1. 1. 1. 1.]\n",
            "[[1. 1. 1. 1.]\n",
            " [1. 1. 1. 1.]\n",
            " [1. 1. 1. 1.]]\n"
          ]
        }
      ]
    },
    {
      "cell_type": "code",
      "source": [
        "import numpy as np\n",
        "\n",
        "zeros_1d = np.zeros(5)\n",
        "print(zeros_1d)\n",
        "\n",
        "zeros_2d = np.zeros((3, 4))\n",
        "print(zeros_2d)\n"
      ],
      "metadata": {
        "colab": {
          "base_uri": "https://localhost:8080/"
        },
        "id": "2zuSKu02IRbK",
        "outputId": "bedf4ed1-2df8-46ff-ae15-06ddd3349577"
      },
      "execution_count": 16,
      "outputs": [
        {
          "output_type": "stream",
          "name": "stdout",
          "text": [
            "[0. 0. 0. 0. 0.]\n",
            "[[0. 0. 0. 0.]\n",
            " [0. 0. 0. 0.]\n",
            " [0. 0. 0. 0.]]\n"
          ]
        }
      ]
    },
    {
      "cell_type": "code",
      "source": [
        "import numpy as np\n",
        "\n",
        "arr = np.arange(10)\n",
        "print(arr)\n",
        "\n",
        "arr = np.arange(2, 20, 2)\n",
        "print(arr)\n"
      ],
      "metadata": {
        "colab": {
          "base_uri": "https://localhost:8080/"
        },
        "id": "sDQwNw-gIIVC",
        "outputId": "1803a9ff-c51c-41b2-b7e8-f5c7cdb244e4"
      },
      "execution_count": 15,
      "outputs": [
        {
          "output_type": "stream",
          "name": "stdout",
          "text": [
            "[0 1 2 3 4 5 6 7 8 9]\n",
            "[ 2  4  6  8 10 12 14 16 18]\n"
          ]
        }
      ]
    },
    {
      "cell_type": "code",
      "source": [
        "import numpy as np\n",
        "\n",
        "lst = [1, 2, 3]\n",
        "arr = np.array(lst)\n",
        "\n",
        "print(type(lst),lst)\n",
        "print(type(arr),arr)"
      ],
      "metadata": {
        "colab": {
          "base_uri": "https://localhost:8080/"
        },
        "id": "sxKTer82HsQB",
        "outputId": "289d6e7a-6b58-4d3d-821c-48df0ea4d38a"
      },
      "execution_count": 14,
      "outputs": [
        {
          "output_type": "stream",
          "name": "stdout",
          "text": [
            "<class 'list'> [1, 2, 3]\n",
            "<class 'numpy.ndarray'> [1 2 3]\n"
          ]
        }
      ]
    },
    {
      "cell_type": "code",
      "source": [
        "import numpy as np\n",
        "\n",
        "arr1d = np.array([1, 2, 3, 4, 5])\n",
        "print(arr1d)\n",
        "\n",
        "arr2d = np.array([[1, 2, 3], [4, 5, 6]])\n",
        "print(arr2d)\n",
        "\n",
        "print(\"Shape:\", arr2d.shape)\n",
        "print(\"Dimensions:\", arr2d.ndim)\n",
        "print(\"Data Type:\", arr2d.dtype)"
      ],
      "metadata": {
        "colab": {
          "base_uri": "https://localhost:8080/"
        },
        "id": "AS9O5umgHmFd",
        "outputId": "5ab995b5-7099-4a9b-dba5-20184dbb8cb8"
      },
      "execution_count": 13,
      "outputs": [
        {
          "output_type": "stream",
          "name": "stdout",
          "text": [
            "[1 2 3 4 5]\n",
            "[[1 2 3]\n",
            " [4 5 6]]\n",
            "Shape: (2, 3)\n",
            "Dimensions: 2\n",
            "Data Type: int64\n"
          ]
        }
      ]
    },
    {
      "cell_type": "code",
      "source": [
        "import numpy as np"
      ],
      "metadata": {
        "id": "qpXrM8_aAOqU"
      },
      "execution_count": 12,
      "outputs": []
    },
    {
      "cell_type": "code",
      "execution_count": 6,
      "metadata": {
        "colab": {
          "base_uri": "https://localhost:8080/"
        },
        "id": "WjhXbk6YxfNT",
        "outputId": "4893c555-0436-483b-ffc7-71942f11bac2"
      },
      "outputs": [
        {
          "output_type": "stream",
          "name": "stdout",
          "text": [
            "700000000001\n",
            "8\n"
          ]
        }
      ],
      "source": [
        "a = input()\n",
        "sum = 0\n",
        "\n",
        "for i in a:\n",
        "  sum = sum + int(i)\n",
        "\n",
        "print(sum)"
      ]
    }
  ]
}