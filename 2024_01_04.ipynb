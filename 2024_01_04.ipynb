{
  "nbformat": 4,
  "nbformat_minor": 0,
  "metadata": {
    "colab": {
      "provenance": [],
      "authorship_tag": "ABX9TyPh0i7lQ01BB6zGlxEe0/tw",
      "include_colab_link": true
    },
    "kernelspec": {
      "name": "python3",
      "display_name": "Python 3"
    },
    "language_info": {
      "name": "python"
    }
  },
  "cells": [
    {
      "cell_type": "markdown",
      "metadata": {
        "id": "view-in-github",
        "colab_type": "text"
      },
      "source": [
        "<a href=\"https://colab.research.google.com/github/hyosungHWANG/201927151_hyosung/blob/main/2024_01_04.ipynb\" target=\"_parent\"><img src=\"https://colab.research.google.com/assets/colab-badge.svg\" alt=\"Open In Colab\"/></a>"
      ]
    },
    {
      "cell_type": "code",
      "source": [
        "score = list()\n",
        "m = \"0\"\n",
        "\n",
        "while m.isdigit() == True:\n",
        "\n",
        "      m = input(\"학생의 점수를 입력하세요.\")\n",
        "      if m.isdigit() == True:\n",
        "        score.append(int(m))\n",
        "\n",
        "print('입력 데이터 출력 : ',score)\n",
        "print('합계', sum(score))\n",
        "print('인원수 : ', len(score))\n",
        "print('평균 : ', sum(score)/len(score))\n"
      ],
      "metadata": {
        "colab": {
          "base_uri": "https://localhost:8080/"
        },
        "id": "KcKZYW_hiBB-",
        "outputId": "cace5b11-a1f9-4b5a-a128-d79f82a4f494"
      },
      "execution_count": 113,
      "outputs": [
        {
          "output_type": "stream",
          "name": "stdout",
          "text": [
            "학생의 점수를 입력하세요.90\n",
            "학생의 점수를 입력하세요.70\n",
            "학생의 점수를 입력하세요.30\n",
            "학생의 점수를 입력하세요.x\n",
            "입력 데이터 출력 :  [90, 70, 30]\n",
            "합계 190\n",
            "인원수 :  3\n",
            "평균 :  63.333333333333336\n"
          ]
        }
      ]
    },
    {
      "cell_type": "code",
      "execution_count": 9,
      "metadata": {
        "colab": {
          "base_uri": "https://localhost:8080/"
        },
        "id": "nMNLnrZi_FW4",
        "outputId": "bf63150f-4eca-4496-cacd-fd6415860e72"
      },
      "outputs": [
        {
          "output_type": "stream",
          "name": "stdout",
          "text": [
            "안녕 1\n",
            "안녕 2\n",
            "안녕 3\n"
          ]
        }
      ],
      "source": [
        "a = 1\n",
        "while(a <= 3):\n",
        "  print('안녕', a)\n",
        "  #a = a + 1\n",
        "  a+=1"
      ]
    },
    {
      "cell_type": "code",
      "source": [
        "a = 'Welcome'\n",
        "b = 'Hello'\n",
        "c = 'Done'\n",
        "\n",
        "for m in range(4):\n",
        "  print(a)\n",
        "  for n in range(3):\n",
        "    print(b)\n",
        "\n",
        "print(c)"
      ],
      "metadata": {
        "colab": {
          "base_uri": "https://localhost:8080/"
        },
        "id": "dFdQHwb8IJm7",
        "outputId": "e274c56f-61ef-4b8c-bc1d-7fd6f146b9e9"
      },
      "execution_count": 34,
      "outputs": [
        {
          "output_type": "stream",
          "name": "stdout",
          "text": [
            "Welcome\n",
            "Hello\n",
            "Hello\n",
            "Hello\n",
            "Welcome\n",
            "Hello\n",
            "Hello\n",
            "Hello\n",
            "Welcome\n",
            "Hello\n",
            "Hello\n",
            "Hello\n",
            "Welcome\n",
            "Hello\n",
            "Hello\n",
            "Hello\n",
            "Done\n"
          ]
        }
      ]
    },
    {
      "cell_type": "code",
      "source": [
        "a, b, c = input().split()    # 입력받은 값을 공백을 기준으로 분리\n",
        "a = int(a)    # 변수를 정수로 변환한 뒤 다시 저장\n",
        "b = int(b)\n",
        "c = int(c)\n",
        "\n",
        "if a >= b >= c or c >= b >= a:\n",
        "    print(b)\n",
        "elif b >= a >= c or c >= a >= b:\n",
        "    print(a)\n",
        "else:\n",
        "    print(c)"
      ],
      "metadata": {
        "colab": {
          "base_uri": "https://localhost:8080/"
        },
        "id": "O6Ko--1KMnGJ",
        "outputId": "43dcfc7b-6769-439e-fc9a-98c8d1166a0c"
      },
      "execution_count": 35,
      "outputs": [
        {
          "output_type": "stream",
          "name": "stdout",
          "text": [
            "20 30 10\n",
            "20\n"
          ]
        }
      ]
    },
    {
      "cell_type": "code",
      "source": [
        "a, b, c = map(int,input().split())\n",
        "\n",
        "nums = [a, b, c]\n",
        "nums.sort() # 기본적으로 오름차순 정렬\n",
        "\n",
        "print(nums[1]) # 인덱싱 번호 유의"
      ],
      "metadata": {
        "colab": {
          "base_uri": "https://localhost:8080/"
        },
        "id": "mQvsQtyPM3tJ",
        "outputId": "e401f869-6a76-4320-a5f9-9e044cfe9b5d"
      },
      "execution_count": 45,
      "outputs": [
        {
          "output_type": "stream",
          "name": "stdout",
          "text": [
            "20 30 10\n",
            "20\n"
          ]
        }
      ]
    },
    {
      "cell_type": "code",
      "source": [
        "a, b, c = map(int,input().split())\n",
        "\n",
        "nums = [a, b, c]\n",
        "nums[1] = 3.14\n",
        "\n",
        "nums_1 = (a, b, c)\n",
        "nums_1[1] = 3.14 #튜플 변경 불가"
      ],
      "metadata": {
        "colab": {
          "base_uri": "https://localhost:8080/",
          "height": 237
        },
        "id": "As0FzWamP5aY",
        "outputId": "b591d0f3-7897-4377-dee9-45ed81ab66df"
      },
      "execution_count": 46,
      "outputs": [
        {
          "name": "stdout",
          "output_type": "stream",
          "text": [
            "20 30 10\n"
          ]
        },
        {
          "output_type": "error",
          "ename": "TypeError",
          "evalue": "ignored",
          "traceback": [
            "\u001b[0;31m---------------------------------------------------------------------------\u001b[0m",
            "\u001b[0;31mTypeError\u001b[0m                                 Traceback (most recent call last)",
            "\u001b[0;32m<ipython-input-46-1e61cbc9b3c1>\u001b[0m in \u001b[0;36m<cell line: 7>\u001b[0;34m()\u001b[0m\n\u001b[1;32m      5\u001b[0m \u001b[0;34m\u001b[0m\u001b[0m\n\u001b[1;32m      6\u001b[0m \u001b[0mnums_1\u001b[0m \u001b[0;34m=\u001b[0m \u001b[0;34m(\u001b[0m\u001b[0ma\u001b[0m\u001b[0;34m,\u001b[0m \u001b[0mb\u001b[0m\u001b[0;34m,\u001b[0m \u001b[0mc\u001b[0m\u001b[0;34m)\u001b[0m\u001b[0;34m\u001b[0m\u001b[0;34m\u001b[0m\u001b[0m\n\u001b[0;32m----> 7\u001b[0;31m \u001b[0mnums_1\u001b[0m\u001b[0;34m[\u001b[0m\u001b[0;36m1\u001b[0m\u001b[0;34m]\u001b[0m \u001b[0;34m=\u001b[0m \u001b[0;36m3.14\u001b[0m\u001b[0;34m\u001b[0m\u001b[0;34m\u001b[0m\u001b[0m\n\u001b[0m",
            "\u001b[0;31mTypeError\u001b[0m: 'tuple' object does not support item assignment"
          ]
        }
      ]
    },
    {
      "cell_type": "code",
      "source": [
        "score= [[29, 28, 27, 30],\n",
        "[30, 20, 27, 29],\n",
        "[23, 25, 29, 30]]\n",
        "\n",
        "for r in range(len(score)): #list의 총 개수 즉 3행\n",
        "  for c in range(len(score[1])): #list하나의 길이 즉 4열\n",
        "    print(score[r][c], end=\" \")\n",
        "  print()\n",
        "\n",
        "print(score[1][2]) #개별 데이터 추출"
      ],
      "metadata": {
        "colab": {
          "base_uri": "https://localhost:8080/"
        },
        "id": "7D-0LOJUZaOZ",
        "outputId": "7862437a-8868-44ee-9d56-d5bd60758c56"
      },
      "execution_count": 67,
      "outputs": [
        {
          "output_type": "stream",
          "name": "stdout",
          "text": [
            "29 28 27 30 \n",
            "30 20 27 29 \n",
            "23 25 29 30 \n",
            "27\n"
          ]
        }
      ]
    }
  ]
}